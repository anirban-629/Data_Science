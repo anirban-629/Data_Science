{
 "cells": [
  {
   "cell_type": "code",
   "execution_count": null,
   "id": "1c44f046",
   "metadata": {},
   "outputs": [],
   "source": [
    "import pandas as pd\n",
    "import numpy as np"
   ]
  },
  {
   "cell_type": "code",
   "execution_count": null,
   "id": "4bd2b8b0",
   "metadata": {},
   "outputs": [],
   "source": [
    "df=pd.read_csv('income.csv')\n",
    "df"
   ]
  },
  {
   "cell_type": "code",
   "execution_count": null,
   "id": "61243da7",
   "metadata": {},
   "outputs": [],
   "source": [
    "df.describe()"
   ]
  },
  {
   "cell_type": "code",
   "execution_count": null,
   "id": "267bb2e9",
   "metadata": {},
   "outputs": [],
   "source": [
    "# df.Income.quantile(0.25) #25 percentile calculation\n",
    "df.Income.quantile(0.75) #75 percentile calculation"
   ]
  },
  {
   "cell_type": "code",
   "execution_count": null,
   "id": "c0de5d0b",
   "metadata": {},
   "outputs": [],
   "source": [
    "print(\n",
    "    df.Income.quantile(0.25,interpolation='lower'),\n",
    "    df.Income.quantile(0.25,interpolation='higher')\n",
    ")"
   ]
  },
  {
   "cell_type": "code",
   "execution_count": null,
   "id": "4147a332",
   "metadata": {},
   "outputs": [],
   "source": [
    "percentile_99=df.Income.quantile(0.99)\n",
    "df[df.Income>=percentile_99]"
   ]
  },
  {
   "cell_type": "code",
   "execution_count": null,
   "id": "e2c1b3bd",
   "metadata": {},
   "outputs": [],
   "source": [
    "# Outlier removal\n",
    "df_no_outlier=df[df.Income<=percentile_99]\n",
    "df_no_outlier"
   ]
  },
  {
   "cell_type": "code",
   "execution_count": null,
   "id": "0fffe973",
   "metadata": {},
   "outputs": [],
   "source": [
    "df['Income'][3]=np.NaN"
   ]
  },
  {
   "cell_type": "code",
   "execution_count": null,
   "id": "d935d1fa",
   "metadata": {},
   "outputs": [],
   "source": [
    "df"
   ]
  },
  {
   "cell_type": "code",
   "execution_count": null,
   "id": "28fa1f41",
   "metadata": {},
   "outputs": [],
   "source": [
    "df.Income.mean()"
   ]
  },
  {
   "cell_type": "code",
   "execution_count": null,
   "id": "6314b2d6",
   "metadata": {},
   "outputs": [],
   "source": [
    "df_new=df.fillna(df.Income.mean())\n",
    "df_new"
   ]
  },
  {
   "cell_type": "code",
   "execution_count": null,
   "id": "cd177767",
   "metadata": {},
   "outputs": [],
   "source": [
    "df_new=df.fillna(df.Income.median())\n",
    "df_new"
   ]
  },
  {
   "cell_type": "markdown",
   "id": "ab175692",
   "metadata": {},
   "source": [
    "## Exercise: \n",
    "\n",
    "### Median, Mean, Percentile\n",
    "- Use this air bnb new york city [data set](https://www.kaggle.com/datasets/dgomonov/new-york-city-airbnb-open-data) and remove outliers using percentile based on price per night for a given apartment/home. You can use suitable upper and lower limits on percentile based on your intuition. Your goal is to come up with new pandas dataframe that doesn't have the outliers present in it."
   ]
  },
  {
   "cell_type": "code",
   "execution_count": null,
   "id": "e9fe0425",
   "metadata": {
    "scrolled": false
   },
   "outputs": [],
   "source": [
    "df=pd.read_csv('AB_NYC_2019.csv')\n",
    "df.head()"
   ]
  },
  {
   "cell_type": "code",
   "execution_count": null,
   "id": "d450ad79",
   "metadata": {
    "scrolled": true
   },
   "outputs": [],
   "source": [
    "df.price.describe()"
   ]
  },
  {
   "cell_type": "code",
   "execution_count": null,
   "id": "2031e072",
   "metadata": {},
   "outputs": [],
   "source": [
    "min_threshold,max_threshold=df.price.quantile([0.01,0.999])\n",
    "print(max_threshold,min_threshold)"
   ]
  },
  {
   "cell_type": "code",
   "execution_count": null,
   "id": "4d480291",
   "metadata": {},
   "outputs": [],
   "source": [
    "df_no_outlier=df[(df.price>min_threshold)&(df.price<max_threshold)]\n",
    "df_no_outlier.shape"
   ]
  },
  {
   "cell_type": "code",
   "execution_count": null,
   "id": "bf5c76be",
   "metadata": {},
   "outputs": [],
   "source": [
    "# df_no_outlier.head()\n",
    "df_no_outlier.sample(4)"
   ]
  }
 ],
 "metadata": {
  "kernelspec": {
   "display_name": "Python 3 (ipykernel)",
   "language": "python",
   "name": "python3"
  },
  "language_info": {
   "codemirror_mode": {
    "name": "ipython",
    "version": 3
   },
   "file_extension": ".py",
   "mimetype": "text/x-python",
   "name": "python",
   "nbconvert_exporter": "python",
   "pygments_lexer": "ipython3",
   "version": "3.10.11"
  },
  "varInspector": {
   "cols": {
    "lenName": 16,
    "lenType": 16,
    "lenVar": 40
   },
   "kernels_config": {
    "python": {
     "delete_cmd_postfix": "",
     "delete_cmd_prefix": "del ",
     "library": "var_list.py",
     "varRefreshCmd": "print(var_dic_list())"
    },
    "r": {
     "delete_cmd_postfix": ") ",
     "delete_cmd_prefix": "rm(",
     "library": "var_list.r",
     "varRefreshCmd": "cat(var_dic_list()) "
    }
   },
   "types_to_exclude": [
    "module",
    "function",
    "builtin_function_or_method",
    "instance",
    "_Feature"
   ],
   "window_display": false
  }
 },
 "nbformat": 4,
 "nbformat_minor": 5
}
