{
 "cells": [
  {
   "cell_type": "markdown",
   "id": "8acefc18",
   "metadata": {},
   "source": [
    "### Introduction"
   ]
  },
  {
   "cell_type": "code",
   "execution_count": null,
   "id": "6de8c051",
   "metadata": {},
   "outputs": [],
   "source": [
    "import matplotlib.pyplot as plt\n",
    "%matplotlib inline\n",
    "\n",
    "# Data\n",
    "x=[1,2,3,4,5,6,7,8,9,10]\n",
    "y=[32,41,5,35,45,23,43,23,12,39]"
   ]
  },
  {
   "cell_type": "code",
   "execution_count": null,
   "id": "684c2800",
   "metadata": {},
   "outputs": [],
   "source": [
    "plt.plot(x,y)"
   ]
  },
  {
   "cell_type": "code",
   "execution_count": null,
   "id": "a7bb80ec",
   "metadata": {},
   "outputs": [],
   "source": [
    "# Data\n",
    "x=[1,2,3,4,5,6,7]\n",
    "y=[32,41,5,35,45,12,34]\n",
    "\n",
    "plt.xlabel('Day')\n",
    "plt.ylabel('Temperature')\n",
    "plt.title('Weather Report')\n",
    "plt.plot(x,y,color='green',linestyle='--',linewidth=2)"
   ]
  },
  {
   "cell_type": "markdown",
   "id": "08c01baf",
   "metadata": {},
   "source": [
    "### Format String"
   ]
  },
  {
   "cell_type": "code",
   "execution_count": null,
   "id": "f8563120",
   "metadata": {},
   "outputs": [],
   "source": [
    "import matplotlib.pyplot as plt\n",
    "%matplotlib inline\n",
    "\n",
    "# Data\n",
    "x=[1,2,3,4,5,6,7]\n",
    "y=[32,41,5,35,45,12,34]"
   ]
  },
  {
   "cell_type": "code",
   "execution_count": null,
   "id": "98689189",
   "metadata": {},
   "outputs": [],
   "source": [
    "# plt.plot(x,y,'--r*')\n",
    "# plt.plot(x,y,'--r+')\n",
    "# plt.plot(x,y,'r*--')\n",
    "# plt.plot(x,y,'--gD')\n",
    "plt.plot(x,y,'D')"
   ]
  },
  {
   "cell_type": "code",
   "execution_count": null,
   "id": "2292c369",
   "metadata": {},
   "outputs": [],
   "source": [
    "# plt.plot(x,y,color='g',marker='o',linestyle='')\n",
    "plt.plot(x,y,color='c',marker='D',linestyle='',markersize=10)"
   ]
  },
  {
   "cell_type": "code",
   "execution_count": null,
   "id": "525efcbe",
   "metadata": {},
   "outputs": [],
   "source": [
    "# plt.plot(x,y,color='c',marker='D',alpha=0.5)\n",
    "# plt.plot(x,y,color='c',marker='D',alpha=1)\n",
    "plt.plot(x,y,color='c',marker='D',alpha=0)"
   ]
  },
  {
   "cell_type": "markdown",
   "id": "20f2cd33",
   "metadata": {},
   "source": [
    "### Axes, Labels, Legend, Grid"
   ]
  },
  {
   "cell_type": "code",
   "execution_count": null,
   "id": "553d8275",
   "metadata": {},
   "outputs": [],
   "source": [
    "import matplotlib.pyplot as plt\n",
    "%matplotlib inline\n",
    "\n",
    "# Data\n",
    "days=[1,2,3,4,5,6,7]\n",
    "max_t=[50,51,52,48,47,49,52.5]\n",
    "min_t=[43,42,40,35,33,35,37]\n",
    "avg_t=[45,48,48,46,40,42,41]"
   ]
  },
  {
   "cell_type": "code",
   "execution_count": null,
   "id": "36377833",
   "metadata": {},
   "outputs": [],
   "source": [
    "plt.title(\"Weather\")\n",
    "plt.xlabel(\"Days\")\n",
    "plt.ylabel(\"Temperature\")\n",
    "\n",
    "#Label & Legend\n",
    "plt.plot(days,max_t,label=\"MAX\")\n",
    "plt.plot(days,min_t,label=\"MIN\")\n",
    "plt.plot(days,avg_t,label=\"AVG\")\n",
    "\n",
    "# plt.legend() # By default loc=\"best\" (Means= depending on chart matplotlib decides the postion)\n",
    "# plt.legend(loc=\"lower left\",shadow=True)\n",
    "# plt.legend(loc=3,shadow=True) #loc=\"lower left\" In case of loc lower left we can use the code 3\n",
    "plt.legend(loc=0,shadow=True,fontsize=\"small\")"
   ]
  },
  {
   "cell_type": "code",
   "execution_count": null,
   "id": "93a76e8b",
   "metadata": {},
   "outputs": [],
   "source": [
    "plt.title(\"Weather\")\n",
    "plt.xlabel(\"Days\")\n",
    "plt.ylabel(\"Temperature\")\n",
    "\n",
    "# Grid\n",
    "plt.plot(days,max_t,label=\"MAX\")\n",
    "plt.plot(days,min_t,label=\"MIN\")\n",
    "plt.plot(days,avg_t,label=\"AVG\")\n",
    "\n",
    "plt.legend(loc=0,shadow=True,fontsize=\"small\")\n",
    "plt.grid()"
   ]
  },
  {
   "cell_type": "markdown",
   "id": "eea7017e",
   "metadata": {},
   "source": [
    "### Bar Charts"
   ]
  },
  {
   "cell_type": "code",
   "execution_count": null,
   "id": "2b72b825",
   "metadata": {},
   "outputs": [],
   "source": [
    "import matplotlib.pyplot as plt\n",
    "import numpy as np\n",
    "%matplotlib inline\n",
    "\n",
    "# Data\n",
    "company=[\"Google\",\"Amazon\",\"Microsoft\",\"Apple\"]\n",
    "revenue=[90,136,89,27]\n",
    "profit=[40,2,34,12]"
   ]
  },
  {
   "cell_type": "code",
   "execution_count": null,
   "id": "36028747",
   "metadata": {},
   "outputs": [],
   "source": [
    "plt.ylabel(\"Revenue(BLN)\")\n",
    "plt.title(\"US Tech Stocks\")\n",
    "plt.bar(company,revenue)"
   ]
  },
  {
   "cell_type": "code",
   "execution_count": null,
   "id": "b781cf7e",
   "metadata": {},
   "outputs": [],
   "source": [
    "plt.ylabel(\"Revenue(BLN)\")\n",
    "plt.title(\"US Tech Stocks\")\n",
    "plt.bar(company,revenue,label=\"Revenue\")\n",
    "plt.legend()"
   ]
  },
  {
   "cell_type": "code",
   "execution_count": null,
   "id": "049da319",
   "metadata": {},
   "outputs": [],
   "source": [
    "plt.ylabel(\"Revenue(BLN)\")\n",
    "plt.title(\"US Tech Stocks\")\n",
    "plt.bar(company,revenue,width=0.3,label=\"Revenue\")\n",
    "plt.bar(company,profit,width=0.3,label=\"Profit\")\n",
    "plt.legend()\n",
    "# Here in the char the profit is showing in same bar"
   ]
  },
  {
   "cell_type": "markdown",
   "id": "3a065f68",
   "metadata": {},
   "source": [
    "#### Introducing the new way of Representing Bar chart"
   ]
  },
  {
   "cell_type": "code",
   "execution_count": null,
   "id": "5f7ed18f",
   "metadata": {},
   "outputs": [],
   "source": [
    "import matplotlib.pyplot as plt\n",
    "import numpy as np\n",
    "%matplotlib inline\n",
    "\n",
    "# Data\n",
    "company=[\"Google\",\"Amazon\",\"Microsoft\",\"Apple\"]\n",
    "revenue=[90,136,89,27]\n",
    "profit=[40,2,34,12]\n",
    "\n",
    "xpos = np.arange(len(company))\n",
    "xpos"
   ]
  },
  {
   "cell_type": "code",
   "execution_count": null,
   "id": "0cded63c",
   "metadata": {},
   "outputs": [],
   "source": [
    "plt.bar(xpos-0.2,revenue, width=0.4, label=\"Revenue\")\n",
    "plt.bar(xpos+0.2,profit, width=0.4,label=\"Profit\")\n",
    "\n",
    "plt.xticks(xpos,company)            # Giving the names of the companies \n",
    "plt.ylabel(\"Revenue(Bln)\")\n",
    "plt.title('US Technology Stocks')\n",
    "plt.legend()"
   ]
  },
  {
   "cell_type": "code",
   "execution_count": null,
   "id": "0b84d1c0",
   "metadata": {},
   "outputs": [],
   "source": [
    "# Horizontal Chart\n",
    "\n",
    "plt.barh(xpos-0.2,revenue,label=\"Revenue\")\n",
    "plt.barh(xpos+0.2,profit,label=\"Profit\")\n",
    "\n",
    "plt.yticks(xpos,company)            # Giving the names of the companies \n",
    "plt.xlabel(\"Revenue(Bln)\")\n",
    "plt.title('US Technology Stocks')\n",
    "plt.legend()"
   ]
  },
  {
   "cell_type": "code",
   "execution_count": null,
   "id": "deaf47f7",
   "metadata": {},
   "outputs": [],
   "source": []
  }
 ],
 "metadata": {
  "kernelspec": {
   "display_name": "Python 3 (ipykernel)",
   "language": "python",
   "name": "python3"
  },
  "language_info": {
   "codemirror_mode": {
    "name": "ipython",
    "version": 3
   },
   "file_extension": ".py",
   "mimetype": "text/x-python",
   "name": "python",
   "nbconvert_exporter": "python",
   "pygments_lexer": "ipython3",
   "version": "3.10.11"
  },
  "varInspector": {
   "cols": {
    "lenName": 16,
    "lenType": 16,
    "lenVar": 40
   },
   "kernels_config": {
    "python": {
     "delete_cmd_postfix": "",
     "delete_cmd_prefix": "del ",
     "library": "var_list.py",
     "varRefreshCmd": "print(var_dic_list())"
    },
    "r": {
     "delete_cmd_postfix": ") ",
     "delete_cmd_prefix": "rm(",
     "library": "var_list.r",
     "varRefreshCmd": "cat(var_dic_list()) "
    }
   },
   "types_to_exclude": [
    "module",
    "function",
    "builtin_function_or_method",
    "instance",
    "_Feature"
   ],
   "window_display": false
  }
 },
 "nbformat": 4,
 "nbformat_minor": 5
}
