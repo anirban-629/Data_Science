{
 "cells": [
  {
   "cell_type": "markdown",
   "id": "9ab7a1d3",
   "metadata": {},
   "source": [
    "import numpy as np"
   ]
  },
  {
   "cell_type": "code",
   "execution_count": null,
   "id": "6d715aea",
   "metadata": {},
   "outputs": [],
   "source": [
    "arr1=np.array([1,2,3,4,5,6,7,8,9,10,11,12,13,14])\n",
    "print(arr1)\n",
    "print(np.__version__)\n",
    "print(type(arr1))"
   ]
  },
  {
   "cell_type": "code",
   "execution_count": null,
   "id": "96952982",
   "metadata": {},
   "outputs": [],
   "source": [
    "arr2=np.array((1,2,3,4,5,6,7,8,9))  # TUPPLE\n",
    "print(arr2)\n",
    "print(type(arr2))"
   ]
  },
  {
   "cell_type": "markdown",
   "id": "f46a3357",
   "metadata": {},
   "source": [
    "### DIMENSIONS (0D,1D,2D,3D)"
   ]
  },
  {
   "cell_type": "code",
   "execution_count": null,
   "id": "a2012282",
   "metadata": {},
   "outputs": [],
   "source": [
    "d0=np.array(40) # 0-D\n",
    "d1=np.array([1,2,3,4,5,6,7,8,9]) # 1-D\n",
    "d2=np.array([[1,2,3],[4,5,6]]) # 2-D\n",
    "d3=np.array([[[1,2,3],[4,5,6]],[[7,8,9],[10,11,12]]]) # 3-D"
   ]
  },
  {
   "cell_type": "code",
   "execution_count": null,
   "id": "93ecf39b",
   "metadata": {},
   "outputs": [],
   "source": [
    "print(d0)\n",
    "print(d1)\n",
    "print(d2)\n",
    "print(d3)"
   ]
  },
  {
   "cell_type": "code",
   "execution_count": null,
   "id": "879a4b9b",
   "metadata": {},
   "outputs": [],
   "source": [
    "#CHECK THE NUMBER OF DIMENSIONS\n",
    "\n",
    "print(d0.ndim)\n",
    "print(d1.ndim)\n",
    "print(d2.ndim)\n",
    "print(d3.ndim)"
   ]
  },
  {
   "cell_type": "code",
   "execution_count": null,
   "id": "f8cf6d41",
   "metadata": {},
   "outputs": [],
   "source": [
    "higherDimensionArray=np.array([1, 2, 3, 4], ndmin=5)\n",
    "print(higherDimensionArray,'Dimension -> ',higherDimensionArray.ndim)"
   ]
  },
  {
   "cell_type": "markdown",
   "id": "fbd84618",
   "metadata": {},
   "source": [
    "### INDEXING "
   ]
  },
  {
   "cell_type": "code",
   "execution_count": null,
   "id": "ea952044",
   "metadata": {
    "scrolled": true
   },
   "outputs": [],
   "source": [
    "print(d0)\n",
    "print(d1[2])\n",
    "print(d2[0,2],d2[1,2])\n",
    "print(d3[0,1,2])\n",
    "\n",
    "print(\"Negative Indexing ->\")\n",
    "print(d2[0,-1],d2[0,-3]) \n",
    "# ARRAY->\n",
    "# [\n",
    "#     [1,2,3],\n",
    "#     [4,5,6]\n",
    "# ]"
   ]
  },
  {
   "cell_type": "markdown",
   "id": "932861a3",
   "metadata": {},
   "source": [
    "### SLICING\n",
    "- We pass slice instead of index like this: **[start:end]**.<br>\n",
    "- We can also define the step, like this: **[start:end:step]**."
   ]
  },
  {
   "cell_type": "code",
   "execution_count": null,
   "id": "d6a28068",
   "metadata": {},
   "outputs": [],
   "source": [
    "d0=np.array(40) \n",
    "d1=np.array([1,2,3,4,5,6,7,8,9])\n",
    "d2=np.array([[1,2,3],[4,5,6]]) \n",
    "d3=np.array([[[1,2,3],[4,5,6]],[[7,8,9],[10,11,12]]]) "
   ]
  },
  {
   "cell_type": "code",
   "execution_count": null,
   "id": "dd4a1a2e",
   "metadata": {},
   "outputs": [],
   "source": [
    "# [Start:END]\n",
    "print(d1[1:5])\n",
    "print(d1[4:])\n",
    "print(d1[:4])\n",
    "\n",
    "# Negative Slicing\n",
    "print(d1[-3:-1])\n",
    "print(d1[-3:])"
   ]
  },
  {
   "cell_type": "code",
   "execution_count": null,
   "id": "165bcfac",
   "metadata": {},
   "outputs": [],
   "source": [
    "# [Start:STEP:END]\n",
    "print(d1[1:5:2]) #[1,(2-1),[3 index 1+2],4,(5),6,7,8,9]\n",
    "print(d1[::2])\n",
    "print(d1[::-1])"
   ]
  },
  {
   "cell_type": "code",
   "execution_count": null,
   "id": "0209d453",
   "metadata": {},
   "outputs": [],
   "source": [
    "# [[1,2,3],[4,5,6]]\n",
    "print(d2[1,1:4])\n",
    "print(d3[0:2, 1:4])"
   ]
  },
  {
   "cell_type": "markdown",
   "id": "15f9d515",
   "metadata": {},
   "source": [
    "### Data Types in Python\n",
    "- By default Python have these data types:\n",
    "  1. **strings** - used to represent text data, the text is given under quote marks. e.g. \"ABCD\"\n",
    "  1. **integer** - used to represent integer numbers. e.g. -1, -2, -3\n",
    "  1. **float** - used to represent real numbers. e.g. 1.2, 42.42\n",
    "  1. **boolean** - used to represent True or False.\n",
    "  1. **complex** - used to represent complex numbers. e.g. 1.0 + 2.0j, 1.5 + 2.5j\n",
    "\n",
    "<br>\n",
    "\n",
    "- List of all data types in NumPy:\n",
    "\t1. **i** - integer\n",
    "\t1. **b** - boolean\n",
    "\t1. **u** - unsigned integer\n",
    "\t1. **f** - float\n",
    "\t1. **c** - complex float\n",
    "\t1. **m** - timedelta\n",
    "\t1. **M** - datetime\n",
    "\t1. **O** - object\n",
    "\t1. **S** - string\n",
    "\t1. **U** - unicode string\n",
    "\t1. **V** - fixed chunk of memory for other type ( void ) "
   ]
  },
  {
   "cell_type": "code",
   "execution_count": null,
   "id": "9d75bac8",
   "metadata": {},
   "outputs": [],
   "source": [
    "a1=np.array([1,2,3,4,5,6,7,8,9])\n",
    "a2=np.array([\"a\", \"b\", \"c\", \"d\", \"e\"])\n",
    "\n",
    "print(a1.dtype)\n",
    "print(a2.dtype)"
   ]
  },
  {
   "cell_type": "code",
   "execution_count": null,
   "id": "77a78bd1",
   "metadata": {},
   "outputs": [],
   "source": [
    "# Creating Array with defined Datatypes\n",
    "a3=np.array([1,2,3,4,5,6,],dtype='S')\n",
    "print(a3.dtype)\n",
    "\n",
    "# Create an array with data type 4 bytes integer:\n",
    "a4=np.array([1,2,3,4,5,6,],dtype='i4')\n",
    "print(a4.dtype)"
   ]
  },
  {
   "cell_type": "code",
   "execution_count": null,
   "id": "a135e168",
   "metadata": {},
   "outputs": [],
   "source": [
    "# Converting Data Type on Existing Arrays\n",
    "\n",
    "a5 = np.array([1.1, 2.1, 3.1])\n",
    "print(a5)\n",
    "print(a5.dtype)\n",
    "\n",
    "newarr = a5.astype('i')\n",
    "print(newarr)\n",
    "print(newarr.dtype)"
   ]
  },
  {
   "cell_type": "code",
   "execution_count": null,
   "id": "db567ba8",
   "metadata": {},
   "outputs": [],
   "source": [
    "# Change data type from integer to boolean:\n",
    "\n",
    "a6 = np.array([1, 0, 3])\n",
    "newarr = a6.astype(bool)\n",
    "print(newarr)\n",
    "print(newarr.dtype)"
   ]
  },
  {
   "cell_type": "markdown",
   "id": "1c4d927b",
   "metadata": {},
   "source": [
    "### COPY & VIEW"
   ]
  },
  {
   "cell_type": "code",
   "execution_count": null,
   "id": "0682bb3f",
   "metadata": {},
   "outputs": [],
   "source": [
    "# COPY\n",
    "arr = np.array([1, 2, 3, 4, 5])\n",
    "x = arr.copy()\n",
    "arr[0] = 42\n",
    "\n",
    "print(arr)\n",
    "print(x)"
   ]
  },
  {
   "cell_type": "code",
   "execution_count": null,
   "id": "f987b740",
   "metadata": {},
   "outputs": [],
   "source": [
    "# VIEW\n",
    "arr = np.array([1, 2, 3, 4, 5])\n",
    "x = arr.view()\n",
    "arr[0] = 42\n",
    "\n",
    "print(arr)\n",
    "print(x)"
   ]
  },
  {
   "cell_type": "code",
   "execution_count": null,
   "id": "1c41dc99",
   "metadata": {},
   "outputs": [],
   "source": [
    "# Every NumPy array has the attribute base that returns None if the array owns the data.\n",
    "arr = np.array([1, 2, 3, 4, 5])\n",
    "\n",
    "x = arr.copy() # Returns Copy Array\n",
    "y = arr.view() # Returns Original Array\n",
    "\n",
    "print(x.base)\n",
    "print(y.base)"
   ]
  },
  {
   "cell_type": "markdown",
   "id": "39188956",
   "metadata": {},
   "source": [
    "### SHAPE"
   ]
  },
  {
   "cell_type": "code",
   "execution_count": null,
   "id": "4085b787",
   "metadata": {},
   "outputs": [],
   "source": [
    "d0=np.array(40) \n",
    "d1=np.array([1,2,3,4,5,6,7,8,9])\n",
    "d2=np.array([[1,2,3],[4,5,6]]) \n",
    "d3=np.array([[[1,2,3],[4,5,6]],[[7,8,9],[10,11,12]]])\n",
    "dn=np.array([1, 2, 3, 4], ndmin=5)\n",
    "\n",
    "print(d0.shape,d1.shape,d2.shape,d3.shape,dn.shape)"
   ]
  },
  {
   "cell_type": "markdown",
   "id": "1d8d7ec1",
   "metadata": {},
   "source": [
    "### RESHAPE"
   ]
  },
  {
   "cell_type": "code",
   "execution_count": null,
   "id": "6db9d760",
   "metadata": {},
   "outputs": [],
   "source": [
    "print(d1.reshape(3,3))\n",
    "print(d1.reshape(3,3).base) # -> its View !Copy"
   ]
  },
  {
   "cell_type": "markdown",
   "id": "83bb7b3a",
   "metadata": {},
   "source": [
    "### ITERATING"
   ]
  },
  {
   "cell_type": "code",
   "execution_count": null,
   "id": "8e4e555f",
   "metadata": {},
   "outputs": [],
   "source": [
    "for ele in d1:\n",
    "    print(ele,end=\" \")\n",
    "print()\n",
    "for ele in d2:\n",
    "    print(ele,end=\" \")\n",
    "print()\n",
    "for ele in np.nditer(d3):\n",
    "    print(ele,end=\" \")\n",
    "    "
   ]
  },
  {
   "cell_type": "markdown",
   "id": "b8c27a66",
   "metadata": {},
   "source": [
    "### JOIN"
   ]
  },
  {
   "cell_type": "code",
   "execution_count": null,
   "id": "806fd661",
   "metadata": {},
   "outputs": [],
   "source": [
    "# 1D\n",
    "arr1 = np.array([1, 2, 3])\n",
    "arr2 = np.array([4, 5, 6])\n",
    "\n",
    "arr = np.concatenate((arr1, arr2))\n",
    "\n",
    "print(arr)"
   ]
  },
  {
   "cell_type": "code",
   "execution_count": null,
   "id": "741af2f4",
   "metadata": {},
   "outputs": [],
   "source": [
    "# 2D\n",
    "arr1 = np.array([[1, 2], [3, 4],[0,0]])\n",
    "arr2 = np.array([[5, 6], [7, 8],[1,1]])\n",
    "\n",
    "arr = np.concatenate((arr1, arr2), axis=1) #axis 1 means vertically\n",
    "print(arr)"
   ]
  },
  {
   "cell_type": "code",
   "execution_count": null,
   "id": "213a1a40",
   "metadata": {},
   "outputs": [],
   "source": [
    "# Stacking\n",
    "\n",
    "arr1 = np.array([1, 2, 3])\n",
    "arr2 = np.array([4, 5, 6])\n",
    "\n",
    "arrS = np.stack((arr1, arr2), axis=1)\n",
    "print(arrS)"
   ]
  },
  {
   "cell_type": "code",
   "execution_count": null,
   "id": "1e00f810",
   "metadata": {},
   "outputs": [],
   "source": [
    "# Row Stacking\n",
    "arrR = np.hstack((arr1, arr2))\n",
    "print(arrR)\n",
    "\n",
    "# Column Stacking\n",
    "arrC = np.vstack((arr1, arr2))\n",
    "print(arrC)"
   ]
  },
  {
   "cell_type": "markdown",
   "id": "a857e787",
   "metadata": {},
   "source": [
    "### SPLIT"
   ]
  },
  {
   "cell_type": "code",
   "execution_count": null,
   "id": "326098d9",
   "metadata": {},
   "outputs": [],
   "source": [
    "arr = np.array([1, 2, 3, 4, 5, 6])\n",
    "newarr = np.array_split(arr, 3)\n",
    "\n",
    "print(newarr)"
   ]
  },
  {
   "cell_type": "code",
   "execution_count": null,
   "id": "86b67a92",
   "metadata": {},
   "outputs": [],
   "source": [
    "arr = np.array([[1, 2], [3, 4], [5, 6], [7, 8], [9, 10], [11, 12]])\n",
    "newarr = np.array_split(arr, 3)\n",
    "\n",
    "print(newarr)"
   ]
  },
  {
   "cell_type": "code",
   "execution_count": null,
   "id": "5636c301",
   "metadata": {},
   "outputs": [],
   "source": [
    "arr = np.array([[1, 2, 3], [4, 5, 6], [7, 8, 9], [10, 11, 12], [13, 14, 15], [16, 17, 18]])\n",
    "newarr = np.hsplit(arr, 3)\n",
    "\n",
    "print(newarr)\n"
   ]
  },
  {
   "cell_type": "markdown",
   "id": "6c5bc0d1",
   "metadata": {},
   "source": [
    "### SEARCH"
   ]
  },
  {
   "cell_type": "code",
   "execution_count": 10,
   "id": "4a90e1e4",
   "metadata": {},
   "outputs": [
    {
     "name": "stdout",
     "output_type": "stream",
     "text": [
      "(array([3, 5, 6], dtype=int64),)\n"
     ]
    }
   ],
   "source": [
    "arr = np.array([1, 2, 3, 4, 5, 4, 4])\n",
    "x = np.where(arr == 4)\n",
    "\n",
    "print(x)"
   ]
  },
  {
   "cell_type": "code",
   "execution_count": 12,
   "id": "47a071ee",
   "metadata": {},
   "outputs": [
    {
     "name": "stdout",
     "output_type": "stream",
     "text": [
      "(array([1, 3, 5, 7], dtype=int64),)\n"
     ]
    }
   ],
   "source": [
    "arr = np.array([1, 2, 3, 4, 5, 6, 7, 8])\n",
    "x = np.where(arr%2 == 0)\n",
    "\n",
    "print(x)"
   ]
  },
  {
   "cell_type": "code",
   "execution_count": 15,
   "id": "4c48b66d",
   "metadata": {},
   "outputs": [
    {
     "name": "stdout",
     "output_type": "stream",
     "text": [
      "(array([0, 2, 4, 6], dtype=int64),)\n"
     ]
    }
   ],
   "source": [
    "arr = np.array([1, 2, 3, 4, 5, 6, 7, 8])\n",
    "x = np.where(arr%2 == 1)\n",
    "\n",
    "print(x)"
   ]
  },
  {
   "cell_type": "code",
   "execution_count": 17,
   "id": "2cbb2f67",
   "metadata": {},
   "outputs": [
    {
     "name": "stdout",
     "output_type": "stream",
     "text": [
      "1\n"
     ]
    }
   ],
   "source": [
    "arr = np.array([6, 7, 8, 9])\n",
    "x = np.searchsorted(arr, 7)\n",
    "\n",
    "print(x)"
   ]
  },
  {
   "cell_type": "code",
   "execution_count": 19,
   "id": "43e072dd",
   "metadata": {},
   "outputs": [
    {
     "name": "stdout",
     "output_type": "stream",
     "text": [
      "2\n"
     ]
    }
   ],
   "source": [
    "arr = np.array([6, 7, 8, 9])\n",
    "x = np.searchsorted(arr, 7, side='right')\n",
    "\n",
    "print(x)"
   ]
  },
  {
   "cell_type": "markdown",
   "id": "2897046b",
   "metadata": {},
   "source": [
    "### SORT"
   ]
  },
  {
   "cell_type": "code",
   "execution_count": 20,
   "id": "a61f6a85",
   "metadata": {},
   "outputs": [
    {
     "name": "stdout",
     "output_type": "stream",
     "text": [
      "[0 1 2 3]\n"
     ]
    }
   ],
   "source": [
    "arr = np.array([3, 2, 0, 1])\n",
    "\n",
    "print(np.sort(arr))"
   ]
  },
  {
   "cell_type": "markdown",
   "id": "a9f93d67",
   "metadata": {},
   "source": [
    "### FILTER"
   ]
  },
  {
   "cell_type": "code",
   "execution_count": 22,
   "id": "1824ef01",
   "metadata": {},
   "outputs": [
    {
     "name": "stdout",
     "output_type": "stream",
     "text": [
      "[41 43]\n"
     ]
    }
   ],
   "source": [
    "arr = np.array([41, 42, 43, 44])\n",
    "x = [True, False, True, False]\n",
    "\n",
    "newarr = arr[x]\n",
    "print(newarr)"
   ]
  }
 ],
 "metadata": {
  "kernelspec": {
   "display_name": "Python 3 (ipykernel)",
   "language": "python",
   "name": "python3"
  },
  "language_info": {
   "codemirror_mode": {
    "name": "ipython",
    "version": 3
   },
   "file_extension": ".py",
   "mimetype": "text/x-python",
   "name": "python",
   "nbconvert_exporter": "python",
   "pygments_lexer": "ipython3",
   "version": "3.10.11"
  },
  "varInspector": {
   "cols": {
    "lenName": 16,
    "lenType": 16,
    "lenVar": 40
   },
   "kernels_config": {
    "python": {
     "delete_cmd_postfix": "",
     "delete_cmd_prefix": "del ",
     "library": "var_list.py",
     "varRefreshCmd": "print(var_dic_list())"
    },
    "r": {
     "delete_cmd_postfix": ") ",
     "delete_cmd_prefix": "rm(",
     "library": "var_list.r",
     "varRefreshCmd": "cat(var_dic_list()) "
    }
   },
   "types_to_exclude": [
    "module",
    "function",
    "builtin_function_or_method",
    "instance",
    "_Feature"
   ],
   "window_display": false
  }
 },
 "nbformat": 4,
 "nbformat_minor": 5
}
