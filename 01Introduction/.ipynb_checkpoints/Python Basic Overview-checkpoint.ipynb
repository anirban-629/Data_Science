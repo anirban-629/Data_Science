{
 "cells": [
  {
   "cell_type": "markdown",
   "id": "827fa75f",
   "metadata": {},
   "source": [
    "### 01 Basics"
   ]
  },
  {
   "cell_type": "code",
   "execution_count": null,
   "id": "b0b7a54e",
   "metadata": {
    "scrolled": true
   },
   "outputs": [],
   "source": [
    "print(\"Hello\")\n",
    "print(\"Hello\",end=\" \")\n",
    "print(\"world\")\n",
    "print('Hello',end='_')\n",
    "print('world')"
   ]
  },
  {
   "cell_type": "code",
   "execution_count": null,
   "id": "4b7c870c",
   "metadata": {},
   "outputs": [],
   "source": [
    "# a=input()\n",
    "# print(type(a))\n",
    "# b=int(input())\n",
    "# print(type(b))"
   ]
  },
  {
   "cell_type": "code",
   "execution_count": null,
   "id": "2eaf7e29",
   "metadata": {},
   "outputs": [],
   "source": [
    "var1= \"Hello\"\n",
    "var2= \" Anirban\"\n",
    "var3= 10\n",
    "var4= 10.10\n",
    "var5= \"10\"\n",
    "var6= \"20\"\n",
    "\n",
    "print(type(var1))\n",
    "print(type(var2))\n",
    "print(type(var3))\n",
    "print(type(var4))\n",
    "\n",
    "print(var1+var2)\n",
    "print(var3+var4)\n",
    "print(var5+var6)\n",
    "\n",
    "#Typecasting\n",
    "print(int(var5)+int(var6))"
   ]
  },
  {
   "cell_type": "markdown",
   "id": "c35d87c3",
   "metadata": {},
   "source": [
    "### 02 Basic Functions"
   ]
  },
  {
   "cell_type": "code",
   "execution_count": null,
   "id": "ff91a839",
   "metadata": {},
   "outputs": [],
   "source": [
    "name=\"anirban is my name\"\n",
    "print(name.capitalize())\n",
    "print(name.find(\"a\")) # Position\n",
    "print(name.endswith(\"Name\"))\n",
    "print(name.endswith(\"name\"))\n",
    "print(name.find(\"my\"))\n",
    "print(name.count(\"a\"))"
   ]
  },
  {
   "cell_type": "code",
   "execution_count": null,
   "id": "0440577a",
   "metadata": {},
   "outputs": [],
   "source": [
    "try:\n",
    "    print(nameA.isalnum())\n",
    "except Exception as e:\n",
    "    print(\"As Space is a Special Character so getting this error\")\n",
    "    \n",
    "name=\"anirbanismyname\"\n",
    "print(name.isalnum(),name.isalpha())\n",
    "\n",
    "name=\"anirbanismyname12\"\n",
    "print(name.isalnum())\n",
    "\n",
    "a=1920313\n",
    "print(name.isalpha())"
   ]
  },
  {
   "cell_type": "code",
   "execution_count": null,
   "id": "3dd972d1",
   "metadata": {},
   "outputs": [],
   "source": [
    "name=\"Anirban is my name\"\n",
    "print(name.replace(\"my\",\"only my\"))"
   ]
  },
  {
   "cell_type": "code",
   "execution_count": null,
   "id": "d53b9bdf",
   "metadata": {},
   "outputs": [],
   "source": [
    "print(name.lower())\n",
    "print(name.upper())"
   ]
  },
  {
   "cell_type": "markdown",
   "id": "3f6fd55c",
   "metadata": {},
   "source": [
    "### 03 String"
   ]
  },
  {
   "cell_type": "code",
   "execution_count": null,
   "id": "991e9d04",
   "metadata": {
    "scrolled": true
   },
   "outputs": [],
   "source": [
    "print(\"First Name:\\tAnirban\\nLast Name:\\tMishra\") # Escape Sequence "
   ]
  },
  {
   "cell_type": "markdown",
   "id": "ffba32a7",
   "metadata": {},
   "source": [
    "#### Slicing"
   ]
  },
  {
   "cell_type": "code",
   "execution_count": null,
   "id": "3c537caa",
   "metadata": {
    "scrolled": true
   },
   "outputs": [],
   "source": [
    "name=\"Anirban is my name\"\n",
    "print(\"Length of the string is: \",len(name))\n",
    "\n",
    "# len() THis is used to get the length of the string\n",
    "\n",
    "print(name[0:7])\n",
    "# array indexing starts from 0\n",
    "# here 0 is including and 7 is excluding that means if we give 6 here it will not take\n",
    "# 0 is the starting point\n",
    "\n",
    "# Advance:\n",
    "print(name[0:7:2])\n",
    "# print you will understand\n",
    "\n",
    "print(name[0:7:3])\n",
    "print(name[::4]) #By default it's start with 0\n",
    "print(name[0::2])\n",
    "print(name[-4:])\n",
    "print(name[2:7])\n",
    "\n",
    "# TO MAKE A STRING IN REVERSE ORDER:\n",
    "\n",
    "print(name[::-1 ])"
   ]
  },
  {
   "cell_type": "code",
   "execution_count": null,
   "id": "ae91fc71",
   "metadata": {},
   "outputs": [],
   "source": [
    "a=10\n",
    "print(type(a))\n",
    "print(type(str(a)))\n",
    "name = \"Anirban\"\n",
    "print(type(name))"
   ]
  },
  {
   "cell_type": "code",
   "execution_count": 167,
   "id": "0657a499",
   "metadata": {},
   "outputs": [
    {
     "name": "stdout",
     "output_type": "stream",
     "text": [
      "The length of the string is ->  38\n",
      "(True/False) Answer is -->  True\n",
      "(True/False) Answer is -->  False\n",
      "Counting a: There are 3 a in the string\n",
      "Finding the starting of the 'from' word:  19\n",
      "Chaning 'cse':  I'm Anirban Mishra from Computer Science and Engineering department\n",
      "Capitalize :  Anirban\n"
     ]
    }
   ],
   "source": [
    "story=\"I'm Anirban Mishra from cse department\"\n",
    "print(\"The length of the string is -> \",len(story))\n",
    "print(\"(True/False) Answer is --> \",story.endswith(\"ment\"))\n",
    "print(\"(True/False) Answer is --> \",story.endswith(\"men\"))\n",
    "print(\"Counting a: There are\",story.count(\"a\"),\"a in the string\")\n",
    "print(\"Finding the starting of the 'from' word: \",story.find(\"from\"))\n",
    "print(\"Chaning 'cse': \",story.replace(\"cse\",\"Computer Science and Engineering\"))\n",
    "story1=\"anirban\"\n",
    "print(\"Capitalize : \",story1.capitalize())"
   ]
  },
  {
   "cell_type": "markdown",
   "id": "9f05adda",
   "metadata": {},
   "source": [
    "#### Methods of String"
   ]
  },
  {
   "cell_type": "code",
   "execution_count": 169,
   "id": "5eb1b945",
   "metadata": {},
   "outputs": [
    {
     "name": "stdout",
     "output_type": "stream",
     "text": [
      "nabrinA\n",
      "ANIRBAN\n",
      "ANIRBAN        \n",
      "    ANIRBAN\n",
      "ANIRBA\n",
      "google\n",
      "String-Slicing-And-Other\n",
      "String----------------------------Slicing-And-Other\n",
      "String----------------------------Slicing-And-Other\n",
      "String-Slicing-And-Other\n",
      "['String', 'Slicing', 'And', 'Other,', 'String', 'Slicing', 'And', 'Other']\n",
      "['String', 'Slicing And Other, String Slicing And Other']\n",
      "['String Slicing And Other, String Slicing And', 'Other']\n",
      "['String Slicing ', 'nd Other, String Slicing ', 'nd Other']\n",
      "['String Slicing And Other', ' String Slicing And Other']\n",
      "String-Slicing-And-Other,-String-Slicing-And-Other\n",
      "String Slicing And Other, String Slicing And Other\n",
      "STRING SLICING AND OTHER, STRING SLICING AND OTHER\n",
      "string slicing and other, string slicing and other\n",
      "String slicing and other, string slicing and other\n",
      "True\n",
      "False\n",
      "True\n",
      "True\n",
      "False\n",
      "True\n",
      "False\n",
      "2\n"
     ]
    }
   ],
   "source": [
    "s = \"Anirban\"\n",
    "print(s[::-1])\n",
    "\n",
    "# Strip\n",
    "s1 = \"    ANIRBAN        \"\n",
    "print(s1.strip())\n",
    "print(s1.lstrip())\n",
    "print(s1.rstrip())\n",
    "\n",
    "s2 = \"ANIRBAN.com\"\n",
    "print(s2.strip('N.com'))\n",
    "\n",
    "s3 = \"www.google.com\"\n",
    "print(s3.strip('wwwcom.'))\n",
    "\n",
    "# Replace\n",
    "s1 = \"String Slicing And Other\"\n",
    "print(s1.replace(\" \", \"-\"))\n",
    "s2 = \"String                            Slicing And Other\"\n",
    "print(s2.replace(\" \", \"-\"))\n",
    "\n",
    "import re\n",
    "s = \"String                            Slicing And Other\"\n",
    "print(re.sub(\"\\s\", \"-\", s))\n",
    "print(re.sub(\"\\s+\", \"-\", s))\n",
    "\n",
    "# split()\n",
    "s1 = \"String Slicing And Other, String Slicing And Other\"\n",
    "print(s1.split())\n",
    "print(s1.split(maxsplit=1))\n",
    "print(s1.rsplit(maxsplit=1))\n",
    "print(s1.split(\"A\"))\n",
    "print(s1.split(\",\"))\n",
    "\n",
    "# join()\n",
    "s1 = ['String', 'Slicing', 'And', 'Other,',\n",
    "      'String', 'Slicing', 'And', 'Other']\n",
    "print('-'.join(s1))\n",
    "print(' '.join(s1))\n",
    "\n",
    "# Commons\n",
    "s1 = \"String Slicing And Other, String Slicing And Other\"\n",
    "print(s1.upper())\n",
    "print(s1.lower())\n",
    "print(s1.capitalize())\n",
    "print(s1.endswith(\"er\"))\n",
    "\n",
    "s2=\"ANIRBAN\"\n",
    "print(s2.islower())\n",
    "print(s2.isupper())\n",
    "\n",
    "s3=\"PYTHON\"\n",
    "print(s3.isalpha())\n",
    "print(s3.isnumeric())\n",
    "print(s3.isalnum())\n",
    "\n",
    "s4=\"#@#asdasdad%53\"\n",
    "print(s4.isalnum())\n",
    "\n",
    "s1=\"ANIRBAN\"\n",
    "print(s1.count('A'))"
   ]
  },
  {
   "cell_type": "markdown",
   "id": "30f4c39c",
   "metadata": {},
   "source": [
    "### 04 List & Tuples"
   ]
  },
  {
   "cell_type": "markdown",
   "id": "7db3758d",
   "metadata": {},
   "source": [
    "### List"
   ]
  },
  {
   "cell_type": "code",
   "execution_count": null,
   "id": "ba9c647d",
   "metadata": {},
   "outputs": [],
   "source": [
    "list=[1,2,3,4,5,6]\n",
    "print(\"Initial list is: \",list)\n",
    "print(\"List 1 is: \",list[1])\n",
    "print(\"Before changing the list[5] is: \",list[5])\n",
    "list[5]=7\n",
    "print(\"After changing the list[5] is: \",list[5])\n",
    "print(\"Now list is: \",list)\n",
    "\n",
    "list1=[\"Anirban\",\"got\",100,\"marks\"]\n",
    "# this is also a valid list varities types of data types is possible\n",
    "print(list1)"
   ]
  },
  {
   "cell_type": "markdown",
   "id": "b02af1f2",
   "metadata": {},
   "source": [
    "#### Methods"
   ]
  },
  {
   "cell_type": "code",
   "execution_count": null,
   "id": "e69331ff",
   "metadata": {},
   "outputs": [],
   "source": [
    "#Sorting\n",
    "list1=[234,346,87,436,87,2,42,576,0,46,987]\n",
    "list1.sort()\n",
    "print(\"Sorted list: \",list1)"
   ]
  },
  {
   "cell_type": "code",
   "execution_count": null,
   "id": "a3bb3c54",
   "metadata": {},
   "outputs": [],
   "source": [
    "# Reverse\n",
    "list2=[123,45,56,89,43,7676,3,57,0]\n",
    "list2.reverse()\n",
    "print(\"Reversed list before soritng: \",list2)\n",
    "list2.sort()\n",
    "print(\"Now sorted list: \",list2)\n",
    "list2.reverse()\n",
    "print(\"Reversed list after soritng: \",list2)"
   ]
  },
  {
   "cell_type": "code",
   "execution_count": null,
   "id": "7f2981b9",
   "metadata": {},
   "outputs": [],
   "source": [
    "# Append\n",
    "list3=[213,45,4567,78,32,678]\n",
    "list3.append(21)\n",
    "print(\"Append 21...at the end: \",list3)"
   ]
  },
  {
   "cell_type": "code",
   "execution_count": null,
   "id": "f00e6003",
   "metadata": {},
   "outputs": [],
   "source": [
    "# Insert\n",
    "list4=[1,2,3,4,5,6]\n",
    "list4.insert(3,8)\n",
    "print(\"After the particular index like here after index 3, 8 will be added: \",list4)"
   ]
  },
  {
   "cell_type": "code",
   "execution_count": null,
   "id": "0741f5c4",
   "metadata": {},
   "outputs": [],
   "source": [
    "# Pop\n",
    "list5=[12,3,445,6,7,8,967,7]\n",
    "list5.pop(4)\n",
    "print(\"Here at this list pop 4 means after index 4 will be deleted: \",list5)"
   ]
  },
  {
   "cell_type": "code",
   "execution_count": null,
   "id": "950041e2",
   "metadata": {},
   "outputs": [],
   "source": [
    "# Remove\n",
    "list6=[234,45,56,678,870]\n",
    "list6.remove(234)\n",
    "print(\"Particular mentioned will be deleted here: \",list6)"
   ]
  },
  {
   "cell_type": "code",
   "execution_count": null,
   "id": "16bbb6d0",
   "metadata": {},
   "outputs": [],
   "source": [
    "# Extend\n",
    "list7=[21,312,435,456,678987,87]\n",
    "list7.extend([123,324,43,65])\n",
    "print(list7)"
   ]
  },
  {
   "cell_type": "markdown",
   "id": "8448bfca",
   "metadata": {},
   "source": [
    "#### Slicing"
   ]
  },
  {
   "cell_type": "code",
   "execution_count": null,
   "id": "c088a8d6",
   "metadata": {},
   "outputs": [],
   "source": [
    "list=[\"anirban\",\"mishra\",\"suchorita\",\"das\",\"sourin\",\"ghosh\",2002,2001,2001]\n",
    "print(list[0:5])\n",
    "print(list[-6:-2])"
   ]
  },
  {
   "cell_type": "markdown",
   "id": "d6f18da6",
   "metadata": {},
   "source": [
    "### Tuple"
   ]
  },
  {
   "cell_type": "code",
   "execution_count": null,
   "id": "3b2c5d66",
   "metadata": {},
   "outputs": [],
   "source": [
    "tuple=(1,2,3,4,5)\n",
    "print(tuple[4])\n",
    "print(tuple)\n",
    "print(type(tuple))\n",
    "\n",
    "# Tuple can't be changed or updated\n",
    "# tuple[3]=10\n",
    "# print(tuple[3])\n",
    "# This will throw error\n",
    "\n",
    "t1=()\n",
    "print(t1) # Empty Tuple\n",
    "# t2=(2) # This is a wrong way, there must be a comma\n",
    "t2=(2,)\n",
    "print(t2)"
   ]
  },
  {
   "cell_type": "code",
   "execution_count": null,
   "id": "7b268f44",
   "metadata": {},
   "outputs": [],
   "source": [
    "tuple=(12,35,47,678,89,43,56,12,12,12)\n",
    "print(\"Count 12: \",tuple.count(12))\n",
    "# It shows that particular element that how many times it's present in the tuple\n",
    "\n",
    "print(\"Searching the Index number: \",tuple.index(12))\n",
    "# It do search of the particular element"
   ]
  },
  {
   "cell_type": "markdown",
   "id": "c4630f25",
   "metadata": {},
   "source": [
    "### 05 Dictionary"
   ]
  },
  {
   "cell_type": "code",
   "execution_count": 4,
   "id": "7a9f8924",
   "metadata": {},
   "outputs": [
    {
     "name": "stdout",
     "output_type": "stream",
     "text": [
      "<class 'dict'>\n"
     ]
    }
   ],
   "source": [
    "d = {}\n",
    "print(type(d))"
   ]
  },
  {
   "cell_type": "code",
   "execution_count": 5,
   "id": "9b959405",
   "metadata": {},
   "outputs": [
    {
     "name": "stdout",
     "output_type": "stream",
     "text": [
      "{'Anirban': 'Meat', 'Sucho': 'Pizza', 'Subhangi': 'Fuchka'}\n",
      "Meat Pizza Fuchka\n",
      "{'Anirban': 'Meat', 'Sucho': 'Pizza', 'Subhangi': 'Fuchka', 'Arka': 'Biriyani'}\n",
      "{'Anirban': 'Meat', 'Sucho': 'Pizza', 'Subhangi': 'Fuchka', 'Arka': 'Biriyani', 'Ankit': 'Roll'}\n"
     ]
    }
   ],
   "source": [
    "d={\n",
    "    \"Anirban\":\"Meat\",\n",
    "    \"Sucho\":\"Pizza\",\n",
    "    \"Subhangi\":\"Fuchka\"\n",
    "}\n",
    "\n",
    "print(d)\n",
    "print(d[\"Anirban\"],d[\"Sucho\"],d[\"Subhangi\"])\n",
    "\n",
    "d[\"Arka\"]= \"Biriyani\"\n",
    "print(d)\n",
    "\n",
    "d[\"Ankit\"]= \"Roll\"\n",
    "print(d)"
   ]
  },
  {
   "cell_type": "code",
   "execution_count": 6,
   "id": "79ae41a0",
   "metadata": {},
   "outputs": [
    {
     "name": "stdout",
     "output_type": "stream",
     "text": [
      "Copied Dictionary ->  {'Anirban': 'Meat', 'Sucho': 'Pizza', 'Subhangi': 'Fuchka', 'Arka': 'Biriyani', 'Ankit': 'Roll'}\n"
     ]
    }
   ],
   "source": [
    "d1=d.copy()\n",
    "print('Copied Dictionary -> ',d1)"
   ]
  },
  {
   "cell_type": "code",
   "execution_count": 12,
   "id": "18dfff2b",
   "metadata": {},
   "outputs": [],
   "source": [
    "del d1[\"Anirban\"]\n",
    "print(d1)"
   ]
  },
  {
   "cell_type": "code",
   "execution_count": 14,
   "id": "6528b941",
   "metadata": {},
   "outputs": [
    {
     "name": "stdout",
     "output_type": "stream",
     "text": [
      "{'Anirban': 'Meat', 'Sucho': {'Breakfast': 'Bread', 'Lunch': 'Rice'}}\n",
      "Meat\n",
      "Rice\n"
     ]
    }
   ],
   "source": [
    "# Dictionary in Dictionary\n",
    "d2={\n",
    "    \"Anirban\":\"Meat\",\n",
    "    \"Sucho\":{\n",
    "        \"Breakfast\": \"Bread\",\n",
    "        \"Lunch\": \"Rice\"\n",
    "    }\n",
    "}\n",
    "\n",
    "print(d2)\n",
    "print(d2[\"Anirban\"])\n",
    "print(d2[\"Sucho\"][\"Lunch\"])"
   ]
  },
  {
   "cell_type": "code",
   "execution_count": 19,
   "id": "611772f5",
   "metadata": {},
   "outputs": [
    {
     "name": "stdout",
     "output_type": "stream",
     "text": [
      "GET FUNCTION\n",
      "Meat\n"
     ]
    }
   ],
   "source": [
    "print(\"GET FUNCTION\")\n",
    "d2={\"Anirban\":\"Meat\",\"Sucho\":\"Pizza\",\"Subhangi\":\"Fuchka\"}\n",
    "print(d2.get(\"Anirban\"))\n",
    "# get function give the value of that particular we've mentioned"
   ]
  },
  {
   "cell_type": "code",
   "execution_count": 20,
   "id": "76c6b673",
   "metadata": {},
   "outputs": [
    {
     "name": "stdout",
     "output_type": "stream",
     "text": [
      "{'Anirban': 'Meat', 'Sucho': 'Pizza', 'Subhangi': 'Fuchka'}\n",
      "UPDATE FUNCTION\n",
      "{'Anirban': 'Meat', 'Sucho': 'Pizza', 'Subhangi': 'Fuchka', 'Ram': 'Sugar'}\n"
     ]
    }
   ],
   "source": [
    "print(d2)\n",
    "print(\"UPDATE FUNCTION\")\n",
    "d2.update({\"Ram\":\"Sugar\"})\n",
    "print(d2)"
   ]
  },
  {
   "cell_type": "code",
   "execution_count": 29,
   "id": "b3d460de",
   "metadata": {},
   "outputs": [
    {
     "name": "stdout",
     "output_type": "stream",
     "text": [
      "Keys & Values FUNCTION\n",
      "dict_keys(['Anirban', 'Sucho', 'Subhangi', 'Ram'])\n",
      "dict_values(['Meat', 'Pizza', 'Fuchka', 'Sugar'])\n"
     ]
    }
   ],
   "source": [
    "print(\"Keys & Values FUNCTION\")\n",
    "print(d2.keys())\n",
    "print(d2.values())"
   ]
  },
  {
   "cell_type": "code",
   "execution_count": 31,
   "id": "3b329ed2",
   "metadata": {},
   "outputs": [
    {
     "name": "stdout",
     "output_type": "stream",
     "text": [
      "Items FUNCTION\n",
      "dict_items([('Anirban', 'Meat'), ('Sucho', 'Pizza'), ('Subhangi', 'Fuchka'), ('Ram', 'Sugar')])\n"
     ]
    }
   ],
   "source": [
    "print(\"Items FUNCTION\")\n",
    "print(d2.items())\n",
    "# items function print both pairs"
   ]
  },
  {
   "cell_type": "markdown",
   "id": "1365bda9",
   "metadata": {},
   "source": [
    "### 06 Set"
   ]
  },
  {
   "cell_type": "code",
   "execution_count": 57,
   "id": "86c5c4be",
   "metadata": {},
   "outputs": [
    {
     "name": "stdout",
     "output_type": "stream",
     "text": [
      "{1, 2, 3, 4, 5, 6} <class 'set'>\n",
      "{1, 2, 3, 4, 5, 6, 10}\n"
     ]
    }
   ],
   "source": [
    "s={1,2,3,4,5,6}\n",
    "print(s,type(s))\n",
    "s.add(1)\n",
    "s.add(10)\n",
    "s.add(10)\n",
    "print(s)"
   ]
  },
  {
   "cell_type": "code",
   "execution_count": 58,
   "id": "65814e8f",
   "metadata": {},
   "outputs": [
    {
     "name": "stdout",
     "output_type": "stream",
     "text": [
      "{1, 2, 3, 4, 5, 6, 100, 200, 10, 300, 400}\n"
     ]
    }
   ],
   "source": [
    "s1= s.union({100,200,300,400})\n",
    "print(s1)"
   ]
  },
  {
   "cell_type": "code",
   "execution_count": 68,
   "id": "3c682e08",
   "metadata": {},
   "outputs": [
    {
     "name": "stdout",
     "output_type": "stream",
     "text": [
      "{1, 2, 3, 4, 5, 6, 100, 200, 10, 300, 400}\n",
      "False\n"
     ]
    }
   ],
   "source": [
    "s3={\"5,6,7,8\"}\n",
    "print(s1)\n",
    "print(s1.isdisjoint(s2))"
   ]
  },
  {
   "cell_type": "code",
   "execution_count": 69,
   "id": "44e4c675",
   "metadata": {},
   "outputs": [
    {
     "name": "stdout",
     "output_type": "stream",
     "text": [
      "{1, 2, 3, 4, 5, 6, 100, 200, 10, 300, 400}\n"
     ]
    }
   ],
   "source": [
    "s2=s1.intersection({1,2,3,4})\n",
    "print(s1)"
   ]
  },
  {
   "cell_type": "code",
   "execution_count": 70,
   "id": "3673a8c4",
   "metadata": {},
   "outputs": [
    {
     "name": "stdout",
     "output_type": "stream",
     "text": [
      "set[1, 2, 3, 4]\n",
      "{1, 2, 3, 4, 5}\n"
     ]
    }
   ],
   "source": [
    "list=[1,2,3,4,5]\n",
    "print(set[1,2,3,4])\n",
    "print(set(list))"
   ]
  },
  {
   "cell_type": "markdown",
   "id": "d2066afd",
   "metadata": {},
   "source": [
    "### 07 Conditionals"
   ]
  },
  {
   "cell_type": "code",
   "execution_count": 72,
   "id": "bdca61e0",
   "metadata": {},
   "outputs": [
    {
     "name": "stdout",
     "output_type": "stream",
     "text": [
      "Greater than 50\n"
     ]
    }
   ],
   "source": [
    "a=100\n",
    "# This is totally a if_elif_else ladder\n",
    "if (a>50):\n",
    "    print(\"Greater than 50\")\n",
    "elif (a>76):\n",
    "    print(\"Greater than 76\")\n",
    "elif (a>89):\n",
    "    print(\"Greater than 89\")\n",
    "else:\n",
    "    print(\"Not Greater\")"
   ]
  },
  {
   "cell_type": "code",
   "execution_count": 74,
   "id": "07732e1e",
   "metadata": {},
   "outputs": [
    {
     "name": "stdout",
     "output_type": "stream",
     "text": [
      "True 1\n",
      "True 3\n",
      "True\n"
     ]
    }
   ],
   "source": [
    "a=9\n",
    "if a>5 :\n",
    "    print(\"True 1\")\n",
    "if a>10 :\n",
    "    print(\"Will not be printed\")\n",
    "if a>=3 :\n",
    "    print(\"True 3\")\n",
    "    \n",
    "# Now this is a Ladder\n",
    "if a>10 :\n",
    "    print(\"False\")\n",
    "else:\n",
    "    print(\"True\")\n",
    "\n"
   ]
  },
  {
   "cell_type": "code",
   "execution_count": 76,
   "id": "e042762e",
   "metadata": {},
   "outputs": [
    {
     "name": "stdout",
     "output_type": "stream",
     "text": [
      "None\n",
      "10 is in List True\n",
      "100 is not in List False\n"
     ]
    }
   ],
   "source": [
    "list=[10,45,32]\n",
    "a= None\n",
    "if(a is None):\n",
    "    print(a)\n",
    "else:\n",
    "    print(False)\n",
    "\n",
    "print(\"10 is in List\",10 in list)\n",
    "print(\"100 is not in List\",100 in list)"
   ]
  },
  {
   "cell_type": "markdown",
   "id": "22b3ead8",
   "metadata": {},
   "source": [
    "### 08 Loops"
   ]
  },
  {
   "cell_type": "code",
   "execution_count": 96,
   "id": "851609b3",
   "metadata": {},
   "outputs": [
    {
     "name": "stdout",
     "output_type": "stream",
     "text": [
      "0\n",
      "1\n",
      "2\n",
      "3\n",
      "4\n",
      "5\n",
      "6\n",
      "7\n",
      "8\n",
      "9\n"
     ]
    }
   ],
   "source": [
    "i=0\n",
    "while i<10:\n",
    "    print(f\"{i}\")\n",
    "    i+=1"
   ]
  },
  {
   "cell_type": "code",
   "execution_count": 101,
   "id": "5739fe67",
   "metadata": {},
   "outputs": [
    {
     "name": "stdout",
     "output_type": "stream",
     "text": [
      "ANIRBAN\n",
      "SUCHORITA\n",
      "SOURIN\n",
      "RITESH\n",
      "ARKA\n",
      "JOYDEEP\n"
     ]
    }
   ],
   "source": [
    "list=[\"ANIRBAN\",\"SUCHORITA\",\"SOURIN\",\"RITESH\",\"ARKA\",\"JOYDEEP\"]\n",
    "for item in list:\n",
    "    print(item)"
   ]
  },
  {
   "cell_type": "code",
   "execution_count": 104,
   "id": "e3218e25",
   "metadata": {},
   "outputs": [
    {
     "name": "stdout",
     "output_type": "stream",
     "text": [
      "0\n",
      "1\n",
      "2\n",
      "3\n",
      "4\n",
      "5\n",
      "6\n",
      "7\n",
      "8\n",
      "9\n"
     ]
    }
   ],
   "source": [
    "for i in range(10):\n",
    "    print(i)"
   ]
  },
  {
   "cell_type": "code",
   "execution_count": 105,
   "id": "03c9a681",
   "metadata": {},
   "outputs": [
    {
     "name": "stdout",
     "output_type": "stream",
     "text": [
      "1\n",
      "2\n",
      "3\n",
      "4\n",
      "5\n",
      "6\n",
      "7\n",
      "8\n",
      "9\n"
     ]
    }
   ],
   "source": [
    "for i in range(1,10):\n",
    "    print(i)"
   ]
  },
  {
   "cell_type": "code",
   "execution_count": 108,
   "id": "3dcaa65d",
   "metadata": {},
   "outputs": [
    {
     "name": "stdout",
     "output_type": "stream",
     "text": [
      "1\n",
      "3\n",
      "5\n",
      "7\n",
      "9\n"
     ]
    }
   ],
   "source": [
    "for i in range(1,10,2):\n",
    "    print(i)"
   ]
  },
  {
   "cell_type": "code",
   "execution_count": 111,
   "id": "8d974642",
   "metadata": {},
   "outputs": [
    {
     "name": "stdout",
     "output_type": "stream",
     "text": [
      "0\n",
      "1\n",
      "2\n",
      "3\n",
      "4\n",
      "5\n",
      "6\n",
      "7\n",
      "8\n",
      "9\n",
      "Loops end!!\n"
     ]
    }
   ],
   "source": [
    "# for else\n",
    "for i in range(10):\n",
    "    print(i)\n",
    "else:\n",
    "    print(\"Loops end!!\")"
   ]
  },
  {
   "cell_type": "code",
   "execution_count": 114,
   "id": "88bf738a",
   "metadata": {},
   "outputs": [
    {
     "name": "stdout",
     "output_type": "stream",
     "text": [
      "0\n",
      "1\n",
      "2\n",
      "3\n",
      "4\n",
      "5\n",
      "Loop is not going to successfully terminated or not goint to the last\n",
      "and also else in for will not be execcuted\n"
     ]
    }
   ],
   "source": [
    "for i in range(10):\n",
    "    print(i)\n",
    "    if i==5:\n",
    "        print(\"Loop is not going to successfully terminated or not goint to the last\\nand also else in for will not be execcuted\")\n",
    "        break\n",
    "else:\n",
    "    print(\"Loops end!!\")"
   ]
  },
  {
   "cell_type": "code",
   "execution_count": 119,
   "id": "2b2d6516",
   "metadata": {},
   "outputs": [
    {
     "name": "stdout",
     "output_type": "stream",
     "text": [
      "0\n",
      "1\n",
      "2\n",
      "3\n",
      "4\n",
      "6\n",
      "7\n",
      "8\n",
      "9\n",
      "Loops end!!\n"
     ]
    }
   ],
   "source": [
    "for i in range(10):\n",
    "    if i==5:\n",
    "        continue\n",
    "    print(i)\n",
    "else:\n",
    "    print(\"Loops end!!\")"
   ]
  },
  {
   "cell_type": "code",
   "execution_count": 120,
   "id": "59f6fa78",
   "metadata": {},
   "outputs": [
    {
     "name": "stdout",
     "output_type": "stream",
     "text": [
      "Pass statement Understood\n"
     ]
    }
   ],
   "source": [
    "i=4\n",
    "for i in range(10):\n",
    "    pass\n",
    "if i>0:\n",
    "    pass\n",
    "print(\"Pass statement Understood\")"
   ]
  },
  {
   "cell_type": "markdown",
   "id": "4ed9d6ee",
   "metadata": {},
   "source": [
    "### 09 Functions"
   ]
  },
  {
   "cell_type": "code",
   "execution_count": 133,
   "id": "34f47dec",
   "metadata": {},
   "outputs": [
    {
     "name": "stdout",
     "output_type": "stream",
     "text": [
      "10\n"
     ]
    }
   ],
   "source": [
    "def sum_(a: ...):\n",
    "    ans=0\n",
    "    for ele in a:\n",
    "        ans+=ele\n",
    "    return ans\n",
    "\n",
    "a=[2,2,2,2,2]\n",
    "print(sum_(a))"
   ]
  },
  {
   "cell_type": "code",
   "execution_count": 158,
   "id": "1dde9a42",
   "metadata": {},
   "outputs": [
    {
     "name": "stdout",
     "output_type": "stream",
     "text": [
      "120\n"
     ]
    }
   ],
   "source": [
    "def factorial(a):\n",
    "    fac=1\n",
    "    for i in range(1,a+1):\n",
    "        fac=fac*i\n",
    "    return fac\n",
    "\n",
    "print(factorial(5))"
   ]
  },
  {
   "cell_type": "code",
   "execution_count": 165,
   "id": "70100f77",
   "metadata": {},
   "outputs": [
    {
     "name": "stdout",
     "output_type": "stream",
     "text": [
      "120\n"
     ]
    }
   ],
   "source": [
    "def factorial_Recursion(n):\n",
    "    if n==0 or n==1:\n",
    "        return 1\n",
    "    else:\n",
    "        return n*factorial_Recursion(n-1)\n",
    "print(factorial_Recursion(5))"
   ]
  },
  {
   "cell_type": "code",
   "execution_count": 163,
   "id": "b704482e",
   "metadata": {},
   "outputs": [
    {
     "name": "stdout",
     "output_type": "stream",
     "text": [
      "Good Morning\n",
      "Good Afternoon\n",
      "Good Night\n"
     ]
    }
   ],
   "source": [
    "def m9():\n",
    "    print(\"Good Morning\")\n",
    "    nn()\n",
    "def nn():\n",
    "    print(\"Good Afternoon\")\n",
    "    n8()\n",
    "def n8():\n",
    "    print(\"Good Night\")\n",
    "a=m9()"
   ]
  },
  {
   "cell_type": "code",
   "execution_count": 152,
   "id": "29d87192",
   "metadata": {},
   "outputs": [
    {
     "name": "stdout",
     "output_type": "stream",
     "text": [
      "Hello Anirban\n"
     ]
    }
   ],
   "source": [
    "def greet(n):\n",
    "    return \"Hello \"+n\n",
    "a=\"Anirban\"\n",
    "print(greet(a))"
   ]
  },
  {
   "cell_type": "code",
   "execution_count": 166,
   "id": "942cbb5b",
   "metadata": {},
   "outputs": [
    {
     "name": "stdout",
     "output_type": "stream",
     "text": [
      "Hello Stranger\n"
     ]
    }
   ],
   "source": [
    "def greet(name=\"Stranger\"):\n",
    "    gr=\"Hello \"+name\n",
    "    return gr\n",
    "\n",
    "print(greet())"
   ]
  },
  {
   "cell_type": "code",
   "execution_count": 172,
   "id": "d26e11e1",
   "metadata": {},
   "outputs": [
    {
     "name": "stdout",
     "output_type": "stream",
     "text": [
      "Here we'll do a+b then /c\n",
      "1st sentence in function is called docstring\n"
     ]
    }
   ],
   "source": [
    "def doc_string():\n",
    "    \"\"\"Here we'll do a+b then /c\n",
    "1st sentence in function is called docstring\"\"\"\n",
    "    pass\n",
    "\n",
    "print(doc_string.__doc__)"
   ]
  },
  {
   "cell_type": "markdown",
   "id": "f9172616",
   "metadata": {},
   "source": [
    "## ADVANCE PYTHON "
   ]
  },
  {
   "cell_type": "code",
   "execution_count": null,
   "id": "ca547458",
   "metadata": {},
   "outputs": [],
   "source": []
  }
 ],
 "metadata": {
  "kernelspec": {
   "display_name": "Python 3 (ipykernel)",
   "language": "python",
   "name": "python3"
  },
  "language_info": {
   "codemirror_mode": {
    "name": "ipython",
    "version": 3
   },
   "file_extension": ".py",
   "mimetype": "text/x-python",
   "name": "python",
   "nbconvert_exporter": "python",
   "pygments_lexer": "ipython3",
   "version": "3.10.11"
  },
  "varInspector": {
   "cols": {
    "lenName": 16,
    "lenType": 16,
    "lenVar": 40
   },
   "kernels_config": {
    "python": {
     "delete_cmd_postfix": "",
     "delete_cmd_prefix": "del ",
     "library": "var_list.py",
     "varRefreshCmd": "print(var_dic_list())"
    },
    "r": {
     "delete_cmd_postfix": ") ",
     "delete_cmd_prefix": "rm(",
     "library": "var_list.r",
     "varRefreshCmd": "cat(var_dic_list()) "
    }
   },
   "types_to_exclude": [
    "module",
    "function",
    "builtin_function_or_method",
    "instance",
    "_Feature"
   ],
   "window_display": false
  }
 },
 "nbformat": 4,
 "nbformat_minor": 5
}
