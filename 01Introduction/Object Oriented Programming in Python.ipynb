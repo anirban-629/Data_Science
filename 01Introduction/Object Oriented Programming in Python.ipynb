{
 "cells": [
  {
   "cell_type": "markdown",
   "id": "d192cc70",
   "metadata": {},
   "source": [
    "### 1. Classes & Objects"
   ]
  },
  {
   "cell_type": "code",
   "execution_count": 45,
   "id": "707a1719",
   "metadata": {},
   "outputs": [
    {
     "name": "stdout",
     "output_type": "stream",
     "text": [
      "i5,16gb,1TB\n",
      "i5,16gb,1TB\n"
     ]
    }
   ],
   "source": [
    "class Computer:\n",
    "    #attributes - variables\n",
    "    #behaviours - methods (functions)\n",
    "    def config(self):\n",
    "        print(\"i5,16gb,1TB\")\n",
    "\n",
    "        \n",
    "com1=Computer()\n",
    "com2=Computer()\n",
    "\n",
    "# print(type(com1))\n",
    "# Computer().config() \n",
    "# Computer.config(com1)\n",
    "# Computer.config(com2)\n",
    "\n",
    "com1.config()\n",
    "com2.config()\n",
    "\n",
    "# a=5\n",
    "# print(a.bit_length())"
   ]
  },
  {
   "cell_type": "markdown",
   "id": "07671b7a",
   "metadata": {},
   "source": [
    "### 2. \\___init\\___ Method"
   ]
  },
  {
   "cell_type": "code",
   "execution_count": 49,
   "id": "421a6fd4",
   "metadata": {},
   "outputs": [
    {
     "name": "stdout",
     "output_type": "stream",
     "text": [
      "Configuration ->  i5  and  8\n",
      "Configuration ->  Ryzen 3  and  16\n"
     ]
    }
   ],
   "source": [
    "class Computer:\n",
    "    def __init__(self,cpu,ram):\n",
    "        self.cpu=cpu\n",
    "        self.ram=ram\n",
    "        \n",
    "    def config(self):\n",
    "        print(\"Configuration -> \",self.cpu,\" and \",self.ram)\n",
    "\n",
    "com1=Computer(\"i5\",8)\n",
    "com2=Computer(\"Ryzen 3\",16)\n",
    "\n",
    "com1.config()\n",
    "com2.config()"
   ]
  },
  {
   "cell_type": "markdown",
   "id": "38876924",
   "metadata": {},
   "source": [
    "### 3. Constructor, Self"
   ]
  },
  {
   "cell_type": "code",
   "execution_count": 4,
   "id": "a602f8ae",
   "metadata": {},
   "outputs": [
    {
     "name": "stdout",
     "output_type": "stream",
     "text": [
      "2049847490352 2049856020752\n"
     ]
    }
   ],
   "source": [
    "class Computer:\n",
    "    pass\n",
    "\n",
    "c1=Computer() # Object's Size -> size of each variable created in the particular class\n",
    "c2=Computer()\n",
    "\n",
    "print(id(c1),id(c2)) # Memory is allocated in heap through Constructor"
   ]
  },
  {
   "cell_type": "code",
   "execution_count": 6,
   "id": "ddb9a872",
   "metadata": {},
   "outputs": [
    {
     "name": "stdout",
     "output_type": "stream",
     "text": [
      "ANIRBAN 20\n",
      "ANIRBAN 20\n",
      "False True\n"
     ]
    }
   ],
   "source": [
    "class Computer:\n",
    "    def __init__(self):\n",
    "        self.name=\"ANIRBAN\"\n",
    "        self.age=20\n",
    "    def update(self):\n",
    "        self.age=21\n",
    "    def compare(self,otherObj):\n",
    "        return self==otherObj\n",
    "    def compareAge(self,otherObj):\n",
    "        return self.age==otherObj.age\n",
    "\n",
    "c1=Computer() \n",
    "c2=Computer()\n",
    "\n",
    "# c1.name=\"RAHUL\"\n",
    "# c1.age=21\n",
    "\n",
    "# c1.update()\n",
    "\n",
    "print(c1.name,c1.age)\n",
    "print(c2.name,c2.age)\n",
    "\n",
    "# print(c1==c2,c1.age==c2.age)\n",
    "print(c1.compare(c2),c1.compareAge(c2))"
   ]
  },
  {
   "cell_type": "markdown",
   "id": "aa98ee5a",
   "metadata": {},
   "source": [
    "### 4. Types of Variable\n",
    "    - CLASS VARIABLES\n",
    "    - INSTANCE VARIABLES"
   ]
  },
  {
   "cell_type": "code",
   "execution_count": 23,
   "id": "deffea5b",
   "metadata": {},
   "outputs": [
    {
     "name": "stdout",
     "output_type": "stream",
     "text": [
      "4 10 BMW\n",
      "5 20 MERCEDEZ\n",
      "4\n",
      "5 6\n"
     ]
    }
   ],
   "source": [
    "class Car:\n",
    "    wheels=4              # CLASS VARIABLE + CLASS NAMESPACE   \n",
    "    def __init__(self):\n",
    "        self.mil=10       # INSTANCE VARIABLE + INSTANCE NAMESPACE\n",
    "        self.com=\"BMW\"    # INSTANCE VARIABLE + INSTANCE NAMESPACE\n",
    "    \n",
    "c1=Car()\n",
    "\n",
    "print(Car().wheels,c1.mil,c1.com)\n",
    "\n",
    "c1.mil=20\n",
    "c1.com=\"MERCEDEZ\"\n",
    "c1.wheels=5\n",
    "print(c1.wheels,c1.mil,c1.com)\n",
    "print(Car.wheels)\n",
    "\n",
    "Car.wheels=6 # Effects immediately after chaning with the name of the Class\n",
    "print(c1.wheels,Car().wheels)"
   ]
  },
  {
   "cell_type": "markdown",
   "id": "2ef6ef0e",
   "metadata": {},
   "source": [
    "### 5. Types of Methods\n",
    "    - INSTANCE METHODS\n",
    "    - CLASS METHODS\n",
    "    - STATIC METHODS"
   ]
  },
  {
   "cell_type": "code",
   "execution_count": 47,
   "id": "58a602ce",
   "metadata": {},
   "outputs": [
    {
     "name": "stdout",
     "output_type": "stream",
     "text": [
      "C.M.S.\n",
      "This method is Static method in the School\n"
     ]
    }
   ],
   "source": [
    "class Student:\n",
    "    # CLASS VARIABLES\n",
    "    school=\"C.M.S.\"             \n",
    "    def __init__(self,m1,m2,m3):\n",
    "        # INSTANCE VARIABLES\n",
    "        self.m1=m1\n",
    "        self.m2=m2\n",
    "        self.m3=m3              \n",
    "    \n",
    "    # INSTANCE METHOD (As it works with the objects) -> (Accessors,Mutators)\n",
    "    def avg(self):                                                           \n",
    "        return (self.m1+self.m2+self.m1)/3\n",
    "\n",
    "    # GETTERS - Accessors\n",
    "    def get_m1(self):     \n",
    "        return self.m1\n",
    "    # SETTERS - Mutators\n",
    "    def set_m1(self,val): \n",
    "        self.m1=val\n",
    "        \n",
    "        \n",
    "    @classmethod # DECORATORS  \n",
    "    def getSchool(cls):        # For class Var use 'cls'\n",
    "        print(cls.school)\n",
    "    \n",
    "    @staticmethod # DECORATORS\n",
    "    def info():\n",
    "        print(\"This method is Static method in the School\")\n",
    "        \n",
    "s1=Student(50,60,70)\n",
    "s2=Student(80,90,100)\n",
    "\n",
    "# print(s1.avg(),s2.avg(),s1.m1)\n",
    "Student.getSchool()\n",
    "Student.info()"
   ]
  },
  {
   "cell_type": "markdown",
   "id": "3c31336e",
   "metadata": {},
   "source": [
    "### 6. Inner Class"
   ]
  },
  {
   "cell_type": "code",
   "execution_count": 70,
   "id": "7556e046",
   "metadata": {},
   "outputs": [
    {
     "name": "stdout",
     "output_type": "stream",
     "text": [
      "ANIRBAN 23\n",
      "HP i5 8\n",
      "HP i5 8\n"
     ]
    }
   ],
   "source": [
    "class Student:             \n",
    "    \n",
    "    def __init__(self,name,roll):\n",
    "        self.name=name\n",
    "        self.roll=roll\n",
    "        self.lap=self.Laptop()\n",
    "        \n",
    "    def show(self):\n",
    "        print(self.name,self.roll)\n",
    "    \n",
    "    # INNER CLASS\n",
    "    class Laptop:           \n",
    "        def __init__(self):\n",
    "            self.brand=\"HP\"\n",
    "            self.cpu=\"i5\"\n",
    "            self.ram=8\n",
    "        def show(self):\n",
    "            print(self.brand,self.cpu,self.ram)\n",
    "    \n",
    "s1=Student(\"ANIRBAN\",23)\n",
    "s2=Student(\"RAHUL\",6)\n",
    "\n",
    "s1.show()\n",
    "# print(s1.lap.brand)\n",
    "s1.lap.show()\n",
    "\n",
    "lap1=Student.Laptop();\n",
    "lap1.show()"
   ]
  },
  {
   "cell_type": "markdown",
   "id": "a79d01af",
   "metadata": {},
   "source": [
    "### 7. Inheritance"
   ]
  },
  {
   "cell_type": "code",
   "execution_count": 102,
   "id": "a5e2d9ef",
   "metadata": {},
   "outputs": [
    {
     "name": "stdout",
     "output_type": "stream",
     "text": [
      "Feature1\n",
      "Feature1\n",
      "Feature3\n",
      "Feature5\n",
      "Feature5\n",
      "Feature6\n",
      "Feature1\n"
     ]
    },
    {
     "ename": "AttributeError",
     "evalue": "'D' object has no attribute 'feature3'",
     "output_type": "error",
     "traceback": [
      "\u001b[1;31m---------------------------------------------------------------------------\u001b[0m",
      "\u001b[1;31mAttributeError\u001b[0m                            Traceback (most recent call last)",
      "Cell \u001b[1;32mIn [102], line 36\u001b[0m\n\u001b[0;32m     34\u001b[0m d1\u001b[38;5;241m.\u001b[39mfeature6()\n\u001b[0;32m     35\u001b[0m d1\u001b[38;5;241m.\u001b[39mfeature1()\n\u001b[1;32m---> 36\u001b[0m \u001b[43md1\u001b[49m\u001b[38;5;241;43m.\u001b[39;49m\u001b[43mfeature3\u001b[49m()\n",
      "\u001b[1;31mAttributeError\u001b[0m: 'D' object has no attribute 'feature3'"
     ]
    }
   ],
   "source": [
    "class A:\n",
    "    def feature1(self):\n",
    "        print(\"Feature1\")\n",
    "    def feature2(self):\n",
    "        print(\"Feature2\")\n",
    "        \n",
    "class B(A):\n",
    "    def feature3(self):\n",
    "        print(\"Feature3\")\n",
    "    def feature4(self):\n",
    "        print(\"Feature4\")\n",
    "\n",
    "class C:\n",
    "    def feature5(self):\n",
    "        print(\"Feature5\")\n",
    "        \n",
    "class D(C,A):\n",
    "    def feature6(self):\n",
    "        print(\"Feature6\")\n",
    "        \n",
    "a1=A()\n",
    "a1.feature1()\n",
    "\n",
    "b1=B()\n",
    "b1.feature1()\n",
    "b1.feature3()\n",
    "\n",
    "c1=C()\n",
    "# c1.feature1()\n",
    "c1.feature5()\n",
    "\n",
    "d1=D();\n",
    "d1.feature5()\n",
    "d1.feature6()\n",
    "d1.feature1()\n",
    "d1.feature3()"
   ]
  },
  {
   "cell_type": "markdown",
   "id": "a5918040",
   "metadata": {},
   "source": [
    "### 8. Constructor in Inheritance"
   ]
  },
  {
   "cell_type": "code",
   "execution_count": 12,
   "id": "de0f76a1",
   "metadata": {},
   "outputs": [
    {
     "name": "stdout",
     "output_type": "stream",
     "text": [
      "A in INIT\n",
      "B in INIT\n"
     ]
    }
   ],
   "source": [
    "class A:\n",
    "    def __init__(self):\n",
    "        print(\"A in INIT\")\n",
    "    def feature1(self):\n",
    "        print(\"Feature1\")\n",
    "    def feature2(self):\n",
    "        print(\"Feature2\")\n",
    "        \n",
    "class B(A):\n",
    "    def __init__(self):    # IF THIS CONSTRUCTOR IS NOT CREATED THEN THE CLASS A CONSTRUCTOR WILL BE EXECUTED\n",
    "        super().__init__()\n",
    "        print(\"B in INIT\")\n",
    "    def feature3(self):\n",
    "        print(\"Feature3\")\n",
    "    def feature4(self):\n",
    "        print(\"Feature4\")\n",
    "\n",
    "obj=B()  \n"
   ]
  },
  {
   "cell_type": "code",
   "execution_count": 24,
   "id": "87cf80bc",
   "metadata": {},
   "outputs": [
    {
     "name": "stdout",
     "output_type": "stream",
     "text": [
      "B in INIT\n",
      "C in INIT\n",
      "Feature1_B\n",
      "Feature2\n"
     ]
    }
   ],
   "source": [
    "class A:\n",
    "    def __init__(self):\n",
    "        print(\"A in INIT\")\n",
    "    def feature1(self):\n",
    "        print(\"Feature1-A\")\n",
    "    def feature2(self):\n",
    "        print(\"Feature2\")\n",
    "        \n",
    "class B:\n",
    "    def __init__(self):    \n",
    "        print(\"B in INIT\")\n",
    "    def feature1(self):\n",
    "        print(\"Feature1_B\")\n",
    "    def feature4(self):\n",
    "        print(\"Feature4\")\n",
    "        \n",
    "class C(B,A): \n",
    "    def __init__(self):    \n",
    "        super().__init__() # Depends on the class which is inherited first (METHOD RESOLUTION ORDER (Left to Right ))\n",
    "        print(\"C in INIT\")\n",
    "    def callSuperClassMethod(self):\n",
    "        super().feature2()\n",
    "        \n",
    "obj=C()  \n",
    "obj.feature1() # MRO\n",
    "obj.callSuperClassMethod()"
   ]
  },
  {
   "cell_type": "markdown",
   "id": "3f8d842e",
   "metadata": {},
   "source": [
    "### 9. Polymorphism\n",
    "    - DUCK TYPING\n",
    "    - OPERATOR OVERLOADING\n",
    "    - METHOD OVERLOADING\n",
    "    - METHOD OVERRIDING"
   ]
  },
  {
   "cell_type": "markdown",
   "id": "30126a89",
   "metadata": {},
   "source": [
    "#### 9_i. DUCK TYPING"
   ]
  },
  {
   "cell_type": "code",
   "execution_count": 42,
   "id": "bee7b382",
   "metadata": {},
   "outputs": [
    {
     "name": "stdout",
     "output_type": "stream",
     "text": [
      "2193627480464\n",
      "2193634732016\n"
     ]
    }
   ],
   "source": [
    "x=6\n",
    "print(id(x))\n",
    "x=\"A\"\n",
    "print(id(x))"
   ]
  },
  {
   "cell_type": "code",
   "execution_count": 51,
   "id": "d997876b",
   "metadata": {},
   "outputs": [
    {
     "name": "stdout",
     "output_type": "stream",
     "text": [
      "VSCODE RUNNING\n",
      "PYCHARM RUNNING\n",
      "ECLIPSE RUNNING\n"
     ]
    }
   ],
   "source": [
    "class Vscode:\n",
    "    def execute(self):print(\"VSCODE RUNNING\")\n",
    "class Pycharm:\n",
    "    def execute(self):print(\"PYCHARM RUNNING\")\n",
    "class Eclipse:\n",
    "    def execute(self):print(\"ECLIPSE RUNNING\")\n",
    "        \n",
    "class Laptop:\n",
    "    def code(self,ide):\n",
    "        ide.execute()\n",
    "        \n",
    "lap1=Laptop()\n",
    "\n",
    "ide1=Vscode()\n",
    "ide2=Pycharm()\n",
    "ide3=Eclipse()\n",
    "\n",
    "lap1.code(ide1)\n",
    "lap1.code(ide2)\n",
    "lap1.code(ide3)"
   ]
  },
  {
   "cell_type": "markdown",
   "id": "efbb527d",
   "metadata": {},
   "source": [
    "#### 9_ii. OPERATOR OVERLOADING"
   ]
  },
  {
   "cell_type": "code",
   "execution_count": 64,
   "id": "79859d00",
   "metadata": {},
   "outputs": [
    {
     "name": "stdout",
     "output_type": "stream",
     "text": [
      "10 10.5\n",
      "55\n",
      "10\n",
      "55\n"
     ]
    }
   ],
   "source": [
    "print(5+5,5+5.5)\n",
    "print('5'+'5')\n",
    "# print(5+'5')\n",
    "print(int.__add__(5,5)) # Equivalent to 5+5 int is a Object\n",
    "print(str.__add__('5','5'))"
   ]
  },
  {
   "cell_type": "code",
   "execution_count": 123,
   "id": "90ac4168",
   "metadata": {},
   "outputs": [
    {
     "name": "stdout",
     "output_type": "stream",
     "text": [
      "400 600\n",
      "-200 -200\n",
      "False True\n"
     ]
    }
   ],
   "source": [
    "class Student:\n",
    "    def __init__(self,m1,m2):\n",
    "        self.m1=m1\n",
    "        self.m2=m2\n",
    "    \n",
    "    def __add__(self,other ):\n",
    "        m1=self.m1+other.m1\n",
    "        m2=self.m2+other.m2\n",
    "        s=Student(m1,m2)\n",
    "        return s\n",
    "        \n",
    "    def __sub__(self,other ):\n",
    "        m1=self.m1-other.m1\n",
    "        m2=self.m2-other.m2\n",
    "        s=Student(m1,m2)\n",
    "        return s\n",
    "    \n",
    "    def __gt__(self,other):\n",
    "        r1=self.m1+self.m2\n",
    "        r2=other.m2+other.m2\n",
    "        return r1>r2\n",
    "    \n",
    "    def __str__(self):\n",
    "        return '{} {}'.format(self.m1,self.m2)\n",
    "    \n",
    "s1=Student(100,200)\n",
    "s2=Student(300,400)\n",
    "\n",
    "s3=s1+s2           # s3=s1+s2 -> s1.__add__(s2)\n",
    "print(s3.m1,s3.m2)\n",
    "s4=s1-s2\n",
    "print(s4.m1,s4.m2)\n",
    "\n",
    "print(s1>s2,s2>s1)"
   ]
  },
  {
   "cell_type": "code",
   "execution_count": 124,
   "id": "37291992",
   "metadata": {},
   "outputs": [
    {
     "name": "stdout",
     "output_type": "stream",
     "text": [
      "10\n",
      "100 200\n"
     ]
    }
   ],
   "source": [
    "a=10\n",
    "# print(a)\n",
    "print(a.__str__())\n",
    "print(s1.__str__())"
   ]
  }
 ],
 "metadata": {
  "kernelspec": {
   "display_name": "Python 3 (ipykernel)",
   "language": "python",
   "name": "python3"
  },
  "language_info": {
   "codemirror_mode": {
    "name": "ipython",
    "version": 3
   },
   "file_extension": ".py",
   "mimetype": "text/x-python",
   "name": "python",
   "nbconvert_exporter": "python",
   "pygments_lexer": "ipython3",
   "version": "3.10.11"
  }
 },
 "nbformat": 4,
 "nbformat_minor": 5
}
